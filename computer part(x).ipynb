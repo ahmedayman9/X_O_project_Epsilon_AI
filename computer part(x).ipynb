{
 "cells": [
  {
   "cell_type": "code",
   "execution_count": 2,
   "metadata": {},
   "outputs": [],
   "source": [
    "import random"
   ]
  },
  {
   "cell_type": "code",
   "execution_count": 6,
   "metadata": {},
   "outputs": [],
   "source": [
    "m = [\n",
    "    [\"\", \"\",\"\"],\n",
    "    [\"\", \"\", \"\"],\n",
    "    [\"\", \"\",\"\"]]\n",
    "\n"
   ]
  },
  {
   "cell_type": "code",
   "execution_count": 7,
   "metadata": {},
   "outputs": [
    {
     "name": "stdout",
     "output_type": "stream",
     "text": [
      "[['', '', ''], ['', '', 'x'], ['', '', '']]\n"
     ]
    }
   ],
   "source": [
    "\n",
    "while True:\n",
    "    row = random.randint(0,2)\n",
    "    col = random.randint(0,2)\n",
    "    if m[row][col] == \"\":\n",
    "        m[row][col] = 'x'\n",
    "        break\n",
    "    print(m)\n"
   ]
  }
 ],
 "metadata": {
  "kernelspec": {
   "display_name": "base",
   "language": "python",
   "name": "python3"
  },
  "language_info": {
   "codemirror_mode": {
    "name": "ipython",
    "version": 3
   },
   "file_extension": ".py",
   "mimetype": "text/x-python",
   "name": "python",
   "nbconvert_exporter": "python",
   "pygments_lexer": "ipython3",
   "version": "3.11.5"
  }
 },
 "nbformat": 4,
 "nbformat_minor": 2
}
